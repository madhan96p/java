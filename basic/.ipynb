{
 "cells": [
  {
   "cell_type": "code",
   "execution_count": null,
   "metadata": {},
   "outputs": [
    {
     "name": "stdout",
     "output_type": "stream",
     "text": [
      "['n', 'o', 'h', 't', 'y', 'P']\n"
     ]
    }
   ],
   "source": [
    "print(\"\".join([\"Python\"[i] for i in range(5, -1, -1)]))"
   ]
  },
  {
   "cell_type": "code",
   "execution_count": 1,
   "id": "40ee4f33",
   "metadata": {},
   "outputs": [
    {
     "data": {
      "text/plain": [
       "14.0"
      ]
     },
     "execution_count": 1,
     "metadata": {},
     "output_type": "execute_result"
    }
   ],
   "source": [
    "8.4+5.6"
   ]
  },
  {
   "cell_type": "code",
   "execution_count": 2,
   "id": "ddda0af4",
   "metadata": {},
   "outputs": [
    {
     "name": "stdout",
     "output_type": "stream",
     "text": [
      "1\n",
      "2\n",
      "3\n",
      "4\n",
      "No Way\n"
     ]
    }
   ],
   "source": [
    "for i in range(1,5):\n",
    "    print(i)\n",
    "else:\n",
    "    print(\"No Way\")"
   ]
  },
  {
   "cell_type": "code",
   "execution_count": 4,
   "id": "4bed942c",
   "metadata": {},
   "outputs": [
    {
     "name": "stdout",
     "output_type": "stream",
     "text": [
      "25\n",
      "125\n"
     ]
    }
   ],
   "source": [
    "valueOne = 5**2\n",
    "valueTwo = 5**3\n",
    "\n",
    "print(valueOne)\n",
    "print(valueTwo)"
   ]
  },
  {
   "cell_type": "code",
   "execution_count": null,
   "id": "8dc9a8f0",
   "metadata": {},
   "outputs": [
    {
     "data": {
      "text/plain": [
       "182.0"
      ]
     },
     "execution_count": 5,
     "metadata": {},
     "output_type": "execute_result"
    }
   ],
   "source": [
    "36/4*(3+2)*4+2 # BODMAS"
   ]
  },
  {
   "cell_type": "code",
   "execution_count": 7,
   "id": "612da518",
   "metadata": {},
   "outputs": [
    {
     "name": "stdout",
     "output_type": "stream",
     "text": [
      "a: 5\n",
      "b: 80\n",
      "c: 0.45\n"
     ]
    }
   ],
   "source": [
    "a = 3+2\n",
    "print(\"a:\",a)\n",
    "b = 4*a*4\n",
    "print(\"b:\",b)\n",
    "c = 36/b\n",
    "print(\"c:\",c)\n"
   ]
  },
  {
   "cell_type": "code",
   "execution_count": null,
   "id": "c9f4beef",
   "metadata": {},
   "outputs": [],
   "source": [
    "5*4\n"
   ]
  }
 ],
 "metadata": {
  "kernelspec": {
   "display_name": "Python 3",
   "language": "python",
   "name": "python3"
  },
  "language_info": {
   "codemirror_mode": {
    "name": "ipython",
    "version": 3
   },
   "file_extension": ".py",
   "mimetype": "text/x-python",
   "name": "python",
   "nbconvert_exporter": "python",
   "pygments_lexer": "ipython3",
   "version": "3.13.2"
  }
 },
 "nbformat": 4,
 "nbformat_minor": 5
}
